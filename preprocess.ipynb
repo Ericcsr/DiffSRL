{
 "cells": [
  {
   "cell_type": "code",
   "execution_count": 1,
   "source": [
    "import numpy as np"
   ],
   "outputs": [],
   "metadata": {}
  },
  {
   "cell_type": "code",
   "execution_count": 2,
   "source": [
    "import os"
   ],
   "outputs": [],
   "metadata": {}
  },
  {
   "cell_type": "code",
   "execution_count": 3,
   "source": [
    "read_path = 'raw_data/collect_writer_data/'\n",
    "step=8\n",
    "primitive_dim = 7\n",
    "state_files = os.listdir(read_path+'/state')\n",
    "states = []\n",
    "for file in state_files:\n",
    "    states.append(f'{read_path}state/{file}')\n",
    "states.sort(key=lambda x:int(x.split('/')[-1][:-4]))"
   ],
   "outputs": [],
   "metadata": {}
  },
  {
   "cell_type": "code",
   "execution_count": 4,
   "source": [
    "actions = np.load(read_path+'action.npy')\n",
    "print(actions.shape)"
   ],
   "outputs": [
    {
     "output_type": "stream",
     "name": "stdout",
     "text": [
      "(10200, 3)\n"
     ]
    }
   ],
   "metadata": {}
  },
  {
   "cell_type": "code",
   "execution_count": 5,
   "source": [
    "size = 10000 - 200*(step-2)\n",
    "before_x = np.zeros((size,8192,3),dtype=np.float64)\n",
    "before_v = np.zeros((size,8192,3),dtype=np.float64)\n",
    "before_F = np.zeros((size,8192,3,3),dtype=np.float64)\n",
    "before_C = np.zeros((size,8192,3,3),dtype=np.float64)\n",
    "before_p = np.zeros((size,primitive_dim), dtype=np.float64)\n",
    "after_x =  np.zeros((size,step-1,8192,3),dtype=np.float64)\n",
    "action_ =  np.zeros((size,step-1,actions.shape[1]),dtype=np.float64)"
   ],
   "outputs": [],
   "metadata": {}
  },
  {
   "cell_type": "code",
   "execution_count": 6,
   "source": [
    "cnt = 0\n",
    "for i in range(10200):\n",
    "    if i % 51 <= (51-step):\n",
    "        z = np.load(states[i])\n",
    "        before_x[cnt] = z['arr_0']\n",
    "        before_v[cnt] = z['arr_1']\n",
    "        before_F[cnt] = z['arr_2']\n",
    "        before_C[cnt] = z['arr_3']\n",
    "        rest_keys = z.files[4:]\n",
    "        if len(rest_keys) > 1:\n",
    "            before_p[cnt] = np.hstack([z[key] for key in rest_keys])\n",
    "        else:\n",
    "            before_p[cnt] = z['arr_4']\n",
    "        for j in range(step-1):\n",
    "            after_z = np.load(states[i+j+1])\n",
    "            after_x[cnt,j] = after_z['arr_0']\n",
    "            action_[cnt,j] = actions[i+j]\n",
    "        cnt += 1\n",
    "actions = action_"
   ],
   "outputs": [],
   "metadata": {}
  },
  {
   "cell_type": "code",
   "execution_count": 7,
   "source": [
    "cnt"
   ],
   "outputs": [
    {
     "output_type": "execute_result",
     "data": {
      "text/plain": [
       "8800"
      ]
     },
     "metadata": {},
     "execution_count": 7
    }
   ],
   "metadata": {}
  },
  {
   "cell_type": "code",
   "execution_count": 8,
   "source": [
    "sort_index = np.random.choice(size,6000,replace=False)"
   ],
   "outputs": [],
   "metadata": {}
  },
  {
   "cell_type": "code",
   "execution_count": 9,
   "source": [
    "before_x = before_x[sort_index]\n",
    "before_v = before_v[sort_index]\n",
    "before_F = before_F[sort_index]\n",
    "before_C = before_C[sort_index]\n",
    "before_p = before_p[sort_index]\n",
    "after_x = after_x[sort_index]\n",
    "action = actions[sort_index]"
   ],
   "outputs": [],
   "metadata": {}
  },
  {
   "cell_type": "code",
   "execution_count": 10,
   "source": [
    "\n",
    "np.savez(\n",
    "    f'data/writer-v1.npz',\n",
    "    before_x = before_x,\n",
    "    before_v = before_v,\n",
    "    before_F = before_F,\n",
    "    before_C = before_C,\n",
    "    before_p = before_p,\n",
    "    after_x = after_x,\n",
    "    action = action\n",
    ")"
   ],
   "outputs": [],
   "metadata": {}
  },
  {
   "cell_type": "code",
   "execution_count": null,
   "source": [],
   "outputs": [],
   "metadata": {}
  }
 ],
 "metadata": {
  "interpreter": {
   "hash": "57297f602e56875141839222eb7d8aa9ee3c85c3a082ecf2272286b5708ad811"
  },
  "kernelspec": {
   "name": "python3",
   "display_name": "Python 3.8.0 64-bit ('taichi': conda)"
  },
  "language_info": {
   "name": "python",
   "version": "3.8.11",
   "mimetype": "text/x-python",
   "codemirror_mode": {
    "name": "ipython",
    "version": 3
   },
   "pygments_lexer": "ipython3",
   "nbconvert_exporter": "python",
   "file_extension": ".py"
  },
  "orig_nbformat": 4
 },
 "nbformat": 4,
 "nbformat_minor": 2
}