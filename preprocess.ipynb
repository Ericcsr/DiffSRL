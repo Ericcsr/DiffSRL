{
 "cells": [
  {
   "cell_type": "code",
   "execution_count": 1,
   "source": [
    "import numpy as np"
   ],
   "outputs": [],
   "metadata": {}
  },
  {
   "cell_type": "code",
   "execution_count": 2,
   "source": [
    "import os"
   ],
   "outputs": [],
   "metadata": {}
  },
  {
   "cell_type": "code",
   "execution_count": 3,
   "source": [
    "before_folders = os.listdir('before')\n",
    "after_folders = os.listdir('after')\n",
    "step = 8\n",
    "before_folders.sort()\n",
    "after_folders.sort()\n",
    "print(before_folders)\n",
    "print(after_folders)"
   ],
   "outputs": [
    {
     "output_type": "stream",
     "name": "stdout",
     "text": [
      "['shake_before', 'sin_before', 'squeeze_before', 'stab_before', 'swing_before']\n",
      "['shake_after', 'sin_after', 'squeeze_after', 'stab_after', 'swing_after']\n"
     ]
    }
   ],
   "metadata": {}
  },
  {
   "cell_type": "code",
   "execution_count": 3,
   "source": [
    "befores = []\n",
    "afters = []\n",
    "step = 8\n",
    "for folder in before_folders:\n",
    "    buffer = []\n",
    "    folder_file = os.listdir('before/'+folder)\n",
    "    for file in folder_file:\n",
    "        if file.endswith('state.npz'):\n",
    "            buffer.append(file)\n",
    "    buffer.sort(key=lambda x:int(x[:-10]))\n",
    "    for i in range(len(buffer)):\n",
    "        buffer[i] = folder + '/' + buffer[i]\n",
    "    befores += buffer\n",
    "\n",
    "for folder in after_folders:\n",
    "    buffer = []\n",
    "    folder_file = os.listdir('after/'+folder)\n",
    "    for file in folder_file:\n",
    "        if file.endswith('state.npz'):\n",
    "            buffer.append(file)\n",
    "    buffer.sort(key=lambda x:int(x[:-10]))\n",
    "    for i in range(len(buffer)):\n",
    "        buffer[i] = folder + '/' + buffer[i]\n",
    "    afters += buffer\n",
    "print(befores)"
   ],
   "outputs": [
    {
     "output_type": "error",
     "ename": "NameError",
     "evalue": "name 'before_folders' is not defined",
     "traceback": [
      "\u001b[0;31m---------------------------------------------------------------------------\u001b[0m",
      "\u001b[0;31mNameError\u001b[0m                                 Traceback (most recent call last)",
      "\u001b[0;32m<ipython-input-3-0bb5e13e29d1>\u001b[0m in \u001b[0;36m<module>\u001b[0;34m\u001b[0m\n\u001b[1;32m      2\u001b[0m \u001b[0mafters\u001b[0m \u001b[0;34m=\u001b[0m \u001b[0;34m[\u001b[0m\u001b[0;34m]\u001b[0m\u001b[0;34m\u001b[0m\u001b[0;34m\u001b[0m\u001b[0m\n\u001b[1;32m      3\u001b[0m \u001b[0mstep\u001b[0m \u001b[0;34m=\u001b[0m \u001b[0;36m8\u001b[0m\u001b[0;34m\u001b[0m\u001b[0;34m\u001b[0m\u001b[0m\n\u001b[0;32m----> 4\u001b[0;31m \u001b[0;32mfor\u001b[0m \u001b[0mfolder\u001b[0m \u001b[0;32min\u001b[0m \u001b[0mbefore_folders\u001b[0m\u001b[0;34m:\u001b[0m\u001b[0;34m\u001b[0m\u001b[0;34m\u001b[0m\u001b[0m\n\u001b[0m\u001b[1;32m      5\u001b[0m     \u001b[0mbuffer\u001b[0m \u001b[0;34m=\u001b[0m \u001b[0;34m[\u001b[0m\u001b[0;34m]\u001b[0m\u001b[0;34m\u001b[0m\u001b[0;34m\u001b[0m\u001b[0m\n\u001b[1;32m      6\u001b[0m     \u001b[0mfolder_file\u001b[0m \u001b[0;34m=\u001b[0m \u001b[0mos\u001b[0m\u001b[0;34m.\u001b[0m\u001b[0mlistdir\u001b[0m\u001b[0;34m(\u001b[0m\u001b[0;34m'before/'\u001b[0m\u001b[0;34m+\u001b[0m\u001b[0mfolder\u001b[0m\u001b[0;34m)\u001b[0m\u001b[0;34m\u001b[0m\u001b[0;34m\u001b[0m\u001b[0m\n",
      "\u001b[0;31mNameError\u001b[0m: name 'before_folders' is not defined"
     ]
    }
   ],
   "metadata": {}
  },
  {
   "cell_type": "code",
   "execution_count": 3,
   "source": [
    "before_files = os.listdir('before')\n",
    "after_files = os.listdir('after')\n",
    "step=8\n",
    "afters = []\n",
    "befores = []\n",
    "for before in before_files:\n",
    "    if before.endswith(\"state.npz\"):\n",
    "        befores.append(before)\n",
    "\n",
    "for after in after_files:\n",
    "    if after.endswith('state.npz'):\n",
    "        afters.append(after)\n",
    "befores.sort(key=lambda x:int(x[:-10]))\n",
    "afters.sort(key=lambda x:int(x[:-10]))"
   ],
   "outputs": [],
   "metadata": {}
  },
  {
   "cell_type": "code",
   "execution_count": 4,
   "source": [
    "#actions = np.vstack([np.load('action_shake.npy'),np.load('action_sin.npy'),np.load('action_squeeze.npy'),\n",
    "#                     np.load('action_stab.npy'),np.load('action_swing.npy')])\n",
    "actions = np.load('action.npy')\n",
    "print(actions.shape)"
   ],
   "outputs": [
    {
     "output_type": "stream",
     "name": "stdout",
     "text": [
      "(10000, 6)\n"
     ]
    }
   ],
   "metadata": {}
  },
  {
   "cell_type": "code",
   "execution_count": 7,
   "source": [
    "size = 10000 - 200*(step-2)\n",
    "before_x = np.zeros((size,8192,3),dtype=np.float64)\n",
    "before_v = np.zeros((size,8192,3),dtype=np.float64)\n",
    "before_F = np.zeros((size,8192,3,3),dtype=np.float64)\n",
    "before_C = np.zeros((size,8192,3,3),dtype=np.float64)\n",
    "before_p = np.zeros((size,21), dtype=np.float64)\n",
    "after_x =  np.zeros((size,step-1,8192,3),dtype=np.float64)\n",
    "after_p = np.zeros((size,step-1,21),dtype=np.float64)\n",
    "action_ =  np.zeros((size,step-1,actions.shape[1]),dtype=np.float64)"
   ],
   "outputs": [],
   "metadata": {}
  },
  {
   "cell_type": "code",
   "execution_count": 8,
   "source": [
    "cnt = 0\n",
    "for i in range(10000):\n",
    "    if i % 50 <= (50-(step-1)):\n",
    "        z = np.load('before/'+befores[i])\n",
    "        before_x[cnt] = z['arr_0']\n",
    "        before_v[cnt] = z['arr_1']\n",
    "        before_F[cnt] = z['arr_2']\n",
    "        before_C[cnt] = z['arr_3']\n",
    "        before_p[cnt] = np.hstack([z['arr_4'],z['arr_5'],z['arr_6']])\n",
    "        checker = []\n",
    "        for j in range(step-1):\n",
    "            #checker.append(afters[i+j][:2])\n",
    "            z = np.load('after/'+afters[i+j])\n",
    "            after_x[cnt,j] = z['arr_0']\n",
    "            after_p[cnt,j] = np.hstack([z['arr_4'],z['arr_5'],z['arr_6']])\n",
    "            action_[cnt,j] = actions[i+j]\n",
    "        #assert(max(checker)==min(checker))\n",
    "        cnt += 1\n",
    "actions = action_"
   ],
   "outputs": [],
   "metadata": {}
  },
  {
   "cell_type": "code",
   "execution_count": 9,
   "source": [
    "size"
   ],
   "outputs": [
    {
     "output_type": "execute_result",
     "data": {
      "text/plain": [
       "8800"
      ]
     },
     "metadata": {},
     "execution_count": 9
    }
   ],
   "metadata": {}
  },
  {
   "cell_type": "code",
   "execution_count": 10,
   "source": [
    "sort_index = np.random.choice(size,size,replace=False)\n",
    "small_index = np.random.choice(size,1000,replace=False)"
   ],
   "outputs": [],
   "metadata": {}
  },
  {
   "cell_type": "code",
   "execution_count": 11,
   "source": [
    "np.savez(\n",
    "    'data/rope.npz',\n",
    "    before_x = before_x[sort_index],\n",
    "    before_v = before_v[sort_index],\n",
    "    before_F = before_F[sort_index],\n",
    "    before_C = before_C[sort_index],\n",
    "    before_p = before_p[sort_index],\n",
    "    after_x = after_x[sort_index],\n",
    "    action = actions[sort_index]\n",
    ")\n",
    "np.savez(\n",
    "    'data/rope_small.npz',\n",
    "    before_x = before_x[small_index],\n",
    "    before_v = before_v[small_index],\n",
    "    before_F = before_F[small_index],\n",
    "    before_C = before_C[small_index],\n",
    "    before_p = before_p[small_index],\n",
    "    after_x = after_x[small_index],\n",
    "    action = actions[small_index]\n",
    ")"
   ],
   "outputs": [],
   "metadata": {}
  },
  {
   "cell_type": "code",
   "execution_count": 14,
   "source": [
    "z = np.load('data/chopsticks.npz')"
   ],
   "outputs": [],
   "metadata": {}
  },
  {
   "cell_type": "code",
   "execution_count": 15,
   "source": [
    "z['after_x'].shape"
   ],
   "outputs": [
    {
     "output_type": "execute_result",
     "data": {
      "text/plain": [
       "(8800, 7, 8192, 3)"
      ]
     },
     "metadata": {},
     "execution_count": 15
    }
   ],
   "metadata": {}
  },
  {
   "cell_type": "code",
   "execution_count": 16,
   "source": [
    "z['before_C'].shape"
   ],
   "outputs": [
    {
     "output_type": "execute_result",
     "data": {
      "text/plain": [
       "(8800, 8192, 3, 3)"
      ]
     },
     "metadata": {},
     "execution_count": 16
    }
   ],
   "metadata": {}
  },
  {
   "cell_type": "code",
   "execution_count": null,
   "source": [],
   "outputs": [],
   "metadata": {}
  }
 ],
 "metadata": {
  "interpreter": {
   "hash": "9dd5226c65d2b56e36a5374c1a7b1f90d614a270ee66dec38919b071ca9bc7f2"
  },
  "kernelspec": {
   "name": "python3",
   "display_name": "Python 3.6.10 64-bit ('eric-diffsim': conda)"
  },
  "language_info": {
   "codemirror_mode": {
    "name": "ipython",
    "version": 3
   },
   "file_extension": ".py",
   "mimetype": "text/x-python",
   "name": "python",
   "nbconvert_exporter": "python",
   "pygments_lexer": "ipython3",
   "version": "3.6.10"
  },
  "orig_nbformat": 4
 },
 "nbformat": 4,
 "nbformat_minor": 2
}